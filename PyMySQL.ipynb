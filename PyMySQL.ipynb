{
 "metadata": {
  "language_info": {
   "codemirror_mode": {
    "name": "ipython",
    "version": 3
   },
   "file_extension": ".py",
   "mimetype": "text/x-python",
   "name": "python",
   "nbconvert_exporter": "python",
   "pygments_lexer": "ipython3",
   "version": "3.9.4"
  },
  "orig_nbformat": 2,
  "kernelspec": {
   "name": "python394jvsc74a57bd09cbac5207f99c8208b969344dcdcc1cd82ae45c5f3e9ac3e9ee5c9c438f79f1a",
   "display_name": "Python 3.9.4 64-bit (windows store)"
  },
  "metadata": {
   "interpreter": {
    "hash": "9cbac5207f99c8208b969344dcdcc1cd82ae45c5f3e9ac3e9ee5c9c438f79f1a"
   }
  }
 },
 "nbformat": 4,
 "nbformat_minor": 2,
 "cells": [
  {
   "source": [
    "# Soal 1 - PyMySQL - Sakila Database"
   ],
   "cell_type": "markdown",
   "metadata": {}
  },
  {
   "source": [
    "## Importing Library and File"
   ],
   "cell_type": "markdown",
   "metadata": {}
  },
  {
   "cell_type": "code",
   "execution_count": 1,
   "metadata": {},
   "outputs": [],
   "source": [
    "import os\n",
    "import mysql.connector\n",
    "import pandas as pd\n",
    "import numpy as np\n",
    "import matplotlib.pyplot as plt\n",
    "import seaborn as sns"
   ]
  },
  {
   "source": [
    "## Use mysql connector"
   ],
   "cell_type": "markdown",
   "metadata": {}
  },
  {
   "cell_type": "code",
   "execution_count": 2,
   "metadata": {},
   "outputs": [],
   "source": [
    "user_name = os.environ.get('DB_USER')\n",
    "password = os.environ.get('DB_PASS')"
   ]
  },
  {
   "cell_type": "code",
   "execution_count": 3,
   "metadata": {},
   "outputs": [],
   "source": [
    "connection = mysql.connector.connect(host = 'localhost',\n",
    "                                    user = 'root',\n",
    "                                    passwd = 'root',\n",
    "                                    db = 'sakila')"
   ]
  },
  {
   "cell_type": "code",
   "execution_count": 4,
   "metadata": {},
   "outputs": [
    {
     "output_type": "execute_result",
     "data": {
      "text/plain": [
       "<mysql.connector.connection.MySQLConnection at 0x242f158bf70>"
      ]
     },
     "metadata": {},
     "execution_count": 4
    }
   ],
   "source": [
    "connection"
   ]
  },
  {
   "source": [
    "## Checking tables from database 'sakila'"
   ],
   "cell_type": "markdown",
   "metadata": {}
  },
  {
   "cell_type": "code",
   "execution_count": 5,
   "metadata": {},
   "outputs": [
    {
     "output_type": "execute_result",
     "data": {
      "text/plain": [
       "              Tables_in_sakila\n",
       "0                        actor\n",
       "1                   actor_info\n",
       "2                      address\n",
       "3                     category\n",
       "4                         city\n",
       "5                      country\n",
       "6                     customer\n",
       "7                customer_list\n",
       "8                         film\n",
       "9                   film_actor\n",
       "10               film_category\n",
       "11                   film_list\n",
       "12                   film_text\n",
       "13                   inventory\n",
       "14                    language\n",
       "15  nicer_but_slower_film_list\n",
       "16                     payment\n",
       "17                      rental\n",
       "18      sales_by_film_category\n",
       "19              sales_by_store\n",
       "20                       staff\n",
       "21                  staff_list\n",
       "22                       store"
      ],
      "text/html": "<div>\n<style scoped>\n    .dataframe tbody tr th:only-of-type {\n        vertical-align: middle;\n    }\n\n    .dataframe tbody tr th {\n        vertical-align: top;\n    }\n\n    .dataframe thead th {\n        text-align: right;\n    }\n</style>\n<table border=\"1\" class=\"dataframe\">\n  <thead>\n    <tr style=\"text-align: right;\">\n      <th></th>\n      <th>Tables_in_sakila</th>\n    </tr>\n  </thead>\n  <tbody>\n    <tr>\n      <th>0</th>\n      <td>actor</td>\n    </tr>\n    <tr>\n      <th>1</th>\n      <td>actor_info</td>\n    </tr>\n    <tr>\n      <th>2</th>\n      <td>address</td>\n    </tr>\n    <tr>\n      <th>3</th>\n      <td>category</td>\n    </tr>\n    <tr>\n      <th>4</th>\n      <td>city</td>\n    </tr>\n    <tr>\n      <th>5</th>\n      <td>country</td>\n    </tr>\n    <tr>\n      <th>6</th>\n      <td>customer</td>\n    </tr>\n    <tr>\n      <th>7</th>\n      <td>customer_list</td>\n    </tr>\n    <tr>\n      <th>8</th>\n      <td>film</td>\n    </tr>\n    <tr>\n      <th>9</th>\n      <td>film_actor</td>\n    </tr>\n    <tr>\n      <th>10</th>\n      <td>film_category</td>\n    </tr>\n    <tr>\n      <th>11</th>\n      <td>film_list</td>\n    </tr>\n    <tr>\n      <th>12</th>\n      <td>film_text</td>\n    </tr>\n    <tr>\n      <th>13</th>\n      <td>inventory</td>\n    </tr>\n    <tr>\n      <th>14</th>\n      <td>language</td>\n    </tr>\n    <tr>\n      <th>15</th>\n      <td>nicer_but_slower_film_list</td>\n    </tr>\n    <tr>\n      <th>16</th>\n      <td>payment</td>\n    </tr>\n    <tr>\n      <th>17</th>\n      <td>rental</td>\n    </tr>\n    <tr>\n      <th>18</th>\n      <td>sales_by_film_category</td>\n    </tr>\n    <tr>\n      <th>19</th>\n      <td>sales_by_store</td>\n    </tr>\n    <tr>\n      <th>20</th>\n      <td>staff</td>\n    </tr>\n    <tr>\n      <th>21</th>\n      <td>staff_list</td>\n    </tr>\n    <tr>\n      <th>22</th>\n      <td>store</td>\n    </tr>\n  </tbody>\n</table>\n</div>"
     },
     "metadata": {},
     "execution_count": 5
    }
   ],
   "source": [
    "sakila_tables = pd.read_sql_query('SHOW TABLES FROM sakila', connection)\n",
    "sakila_tables"
   ]
  },
  {
   "source": [
    "## Checking Data from Tables"
   ],
   "cell_type": "markdown",
   "metadata": {}
  },
  {
   "cell_type": "code",
   "execution_count": 6,
   "metadata": {},
   "outputs": [],
   "source": [
    "actor_tables = pd.read_sql_query('SELECT * FROM actor', connection)\n",
    "actor_info_tables = pd.read_sql_query('SELECT * FROM actor_info', connection)\n",
    "address_tables = pd.read_sql_query('SELECT * FROM address', connection)\n",
    "category_tables = pd.read_sql_query('SELECT * FROM category', connection)\n",
    "city_tables = pd.read_sql_query('SELECT * FROM city', connection)\n",
    "country_tables = pd.read_sql_query('SELECT * FROM country', connection)\n",
    "customer_tables = pd.read_sql_query('SELECT * FROM customer', connection)\n",
    "customer_list_tables = pd.read_sql_query('SELECT * FROM customer_list', connection)\n",
    "film_tables = pd.read_sql_query('SELECT * FROM film', connection)\n",
    "film_category_tables = pd.read_sql_query('SELECT * FROM film_category', connection)\n",
    "rental_tables = pd.read_sql_query('SELECT * FROM rental', connection)\n",
    "film_actor = pd.read_sql_query('SELECT * FROM film_actor', connection)"
   ]
  },
  {
   "cell_type": "code",
   "execution_count": 7,
   "metadata": {},
   "outputs": [
    {
     "output_type": "execute_result",
     "data": {
      "text/plain": [
       "   actor_id first_name last_name         last_update\n",
       "0         1   PENELOPE   GUINESS 2006-02-15 04:34:33\n",
       "1         2       NICK  WAHLBERG 2006-02-15 04:34:33"
      ],
      "text/html": "<div>\n<style scoped>\n    .dataframe tbody tr th:only-of-type {\n        vertical-align: middle;\n    }\n\n    .dataframe tbody tr th {\n        vertical-align: top;\n    }\n\n    .dataframe thead th {\n        text-align: right;\n    }\n</style>\n<table border=\"1\" class=\"dataframe\">\n  <thead>\n    <tr style=\"text-align: right;\">\n      <th></th>\n      <th>actor_id</th>\n      <th>first_name</th>\n      <th>last_name</th>\n      <th>last_update</th>\n    </tr>\n  </thead>\n  <tbody>\n    <tr>\n      <th>0</th>\n      <td>1</td>\n      <td>PENELOPE</td>\n      <td>GUINESS</td>\n      <td>2006-02-15 04:34:33</td>\n    </tr>\n    <tr>\n      <th>1</th>\n      <td>2</td>\n      <td>NICK</td>\n      <td>WAHLBERG</td>\n      <td>2006-02-15 04:34:33</td>\n    </tr>\n  </tbody>\n</table>\n</div>"
     },
     "metadata": {},
     "execution_count": 7
    }
   ],
   "source": [
    "actor_tables.head(2)"
   ]
  },
  {
   "cell_type": "code",
   "execution_count": 8,
   "metadata": {},
   "outputs": [
    {
     "output_type": "execute_result",
     "data": {
      "text/plain": [
       "   actor_id  film_id         last_update\n",
       "0         1        1 2006-02-15 05:05:03\n",
       "1         1       23 2006-02-15 05:05:03"
      ],
      "text/html": "<div>\n<style scoped>\n    .dataframe tbody tr th:only-of-type {\n        vertical-align: middle;\n    }\n\n    .dataframe tbody tr th {\n        vertical-align: top;\n    }\n\n    .dataframe thead th {\n        text-align: right;\n    }\n</style>\n<table border=\"1\" class=\"dataframe\">\n  <thead>\n    <tr style=\"text-align: right;\">\n      <th></th>\n      <th>actor_id</th>\n      <th>film_id</th>\n      <th>last_update</th>\n    </tr>\n  </thead>\n  <tbody>\n    <tr>\n      <th>0</th>\n      <td>1</td>\n      <td>1</td>\n      <td>2006-02-15 05:05:03</td>\n    </tr>\n    <tr>\n      <th>1</th>\n      <td>1</td>\n      <td>23</td>\n      <td>2006-02-15 05:05:03</td>\n    </tr>\n  </tbody>\n</table>\n</div>"
     },
     "metadata": {},
     "execution_count": 8
    }
   ],
   "source": [
    "film_actor.head(2)"
   ]
  },
  {
   "cell_type": "code",
   "execution_count": 9,
   "metadata": {},
   "outputs": [
    {
     "output_type": "execute_result",
     "data": {
      "text/plain": [
       "   film_id             title  \\\n",
       "0        1  ACADEMY DINOSAUR   \n",
       "1        2    ACE GOLDFINGER   \n",
       "\n",
       "                                         description  release_year  \\\n",
       "0  A Epic Drama of a Feminist And a Mad Scientist...          2006   \n",
       "1  A Astounding Epistle of a Database Administrat...          2006   \n",
       "\n",
       "   language_id original_language_id  rental_duration  rental_rate  length  \\\n",
       "0            1                 None                6         0.99      86   \n",
       "1            1                 None                3         4.99      48   \n",
       "\n",
       "   replacement_cost rating                     special_features  \\\n",
       "0             20.99     PG  {Behind the Scenes, Deleted Scenes}   \n",
       "1             12.99      G           {Trailers, Deleted Scenes}   \n",
       "\n",
       "          last_update  \n",
       "0 2006-02-15 05:03:42  \n",
       "1 2006-02-15 05:03:42  "
      ],
      "text/html": "<div>\n<style scoped>\n    .dataframe tbody tr th:only-of-type {\n        vertical-align: middle;\n    }\n\n    .dataframe tbody tr th {\n        vertical-align: top;\n    }\n\n    .dataframe thead th {\n        text-align: right;\n    }\n</style>\n<table border=\"1\" class=\"dataframe\">\n  <thead>\n    <tr style=\"text-align: right;\">\n      <th></th>\n      <th>film_id</th>\n      <th>title</th>\n      <th>description</th>\n      <th>release_year</th>\n      <th>language_id</th>\n      <th>original_language_id</th>\n      <th>rental_duration</th>\n      <th>rental_rate</th>\n      <th>length</th>\n      <th>replacement_cost</th>\n      <th>rating</th>\n      <th>special_features</th>\n      <th>last_update</th>\n    </tr>\n  </thead>\n  <tbody>\n    <tr>\n      <th>0</th>\n      <td>1</td>\n      <td>ACADEMY DINOSAUR</td>\n      <td>A Epic Drama of a Feminist And a Mad Scientist...</td>\n      <td>2006</td>\n      <td>1</td>\n      <td>None</td>\n      <td>6</td>\n      <td>0.99</td>\n      <td>86</td>\n      <td>20.99</td>\n      <td>PG</td>\n      <td>{Behind the Scenes, Deleted Scenes}</td>\n      <td>2006-02-15 05:03:42</td>\n    </tr>\n    <tr>\n      <th>1</th>\n      <td>2</td>\n      <td>ACE GOLDFINGER</td>\n      <td>A Astounding Epistle of a Database Administrat...</td>\n      <td>2006</td>\n      <td>1</td>\n      <td>None</td>\n      <td>3</td>\n      <td>4.99</td>\n      <td>48</td>\n      <td>12.99</td>\n      <td>G</td>\n      <td>{Trailers, Deleted Scenes}</td>\n      <td>2006-02-15 05:03:42</td>\n    </tr>\n  </tbody>\n</table>\n</div>"
     },
     "metadata": {},
     "execution_count": 9
    }
   ],
   "source": [
    "film_tables.head(2)"
   ]
  },
  {
   "cell_type": "code",
   "execution_count": 10,
   "metadata": {},
   "outputs": [
    {
     "output_type": "execute_result",
     "data": {
      "text/plain": [
       "   category_id       name         last_update\n",
       "0            1     Action 2006-02-15 04:46:27\n",
       "1            2  Animation 2006-02-15 04:46:27"
      ],
      "text/html": "<div>\n<style scoped>\n    .dataframe tbody tr th:only-of-type {\n        vertical-align: middle;\n    }\n\n    .dataframe tbody tr th {\n        vertical-align: top;\n    }\n\n    .dataframe thead th {\n        text-align: right;\n    }\n</style>\n<table border=\"1\" class=\"dataframe\">\n  <thead>\n    <tr style=\"text-align: right;\">\n      <th></th>\n      <th>category_id</th>\n      <th>name</th>\n      <th>last_update</th>\n    </tr>\n  </thead>\n  <tbody>\n    <tr>\n      <th>0</th>\n      <td>1</td>\n      <td>Action</td>\n      <td>2006-02-15 04:46:27</td>\n    </tr>\n    <tr>\n      <th>1</th>\n      <td>2</td>\n      <td>Animation</td>\n      <td>2006-02-15 04:46:27</td>\n    </tr>\n  </tbody>\n</table>\n</div>"
     },
     "metadata": {},
     "execution_count": 10
    }
   ],
   "source": [
    "category_tables.head(2)"
   ]
  },
  {
   "cell_type": "code",
   "execution_count": 11,
   "metadata": {},
   "outputs": [
    {
     "output_type": "execute_result",
     "data": {
      "text/plain": [
       "   film_id  category_id         last_update\n",
       "0        1            6 2006-02-15 05:07:09\n",
       "1        2           11 2006-02-15 05:07:09"
      ],
      "text/html": "<div>\n<style scoped>\n    .dataframe tbody tr th:only-of-type {\n        vertical-align: middle;\n    }\n\n    .dataframe tbody tr th {\n        vertical-align: top;\n    }\n\n    .dataframe thead th {\n        text-align: right;\n    }\n</style>\n<table border=\"1\" class=\"dataframe\">\n  <thead>\n    <tr style=\"text-align: right;\">\n      <th></th>\n      <th>film_id</th>\n      <th>category_id</th>\n      <th>last_update</th>\n    </tr>\n  </thead>\n  <tbody>\n    <tr>\n      <th>0</th>\n      <td>1</td>\n      <td>6</td>\n      <td>2006-02-15 05:07:09</td>\n    </tr>\n    <tr>\n      <th>1</th>\n      <td>2</td>\n      <td>11</td>\n      <td>2006-02-15 05:07:09</td>\n    </tr>\n  </tbody>\n</table>\n</div>"
     },
     "metadata": {},
     "execution_count": 11
    }
   ],
   "source": [
    "film_category_tables.head(2)"
   ]
  },
  {
   "cell_type": "code",
   "execution_count": 12,
   "metadata": {},
   "outputs": [
    {
     "output_type": "execute_result",
     "data": {
      "text/plain": [
       "   rental_id         rental_date  inventory_id  customer_id  \\\n",
       "0          1 2005-05-24 22:53:30           367          130   \n",
       "1          2 2005-05-24 22:54:33          1525          459   \n",
       "\n",
       "          return_date  staff_id         last_update  \n",
       "0 2005-05-26 22:04:30         1 2006-02-15 21:30:53  \n",
       "1 2005-05-28 19:40:33         1 2006-02-15 21:30:53  "
      ],
      "text/html": "<div>\n<style scoped>\n    .dataframe tbody tr th:only-of-type {\n        vertical-align: middle;\n    }\n\n    .dataframe tbody tr th {\n        vertical-align: top;\n    }\n\n    .dataframe thead th {\n        text-align: right;\n    }\n</style>\n<table border=\"1\" class=\"dataframe\">\n  <thead>\n    <tr style=\"text-align: right;\">\n      <th></th>\n      <th>rental_id</th>\n      <th>rental_date</th>\n      <th>inventory_id</th>\n      <th>customer_id</th>\n      <th>return_date</th>\n      <th>staff_id</th>\n      <th>last_update</th>\n    </tr>\n  </thead>\n  <tbody>\n    <tr>\n      <th>0</th>\n      <td>1</td>\n      <td>2005-05-24 22:53:30</td>\n      <td>367</td>\n      <td>130</td>\n      <td>2005-05-26 22:04:30</td>\n      <td>1</td>\n      <td>2006-02-15 21:30:53</td>\n    </tr>\n    <tr>\n      <th>1</th>\n      <td>2</td>\n      <td>2005-05-24 22:54:33</td>\n      <td>1525</td>\n      <td>459</td>\n      <td>2005-05-28 19:40:33</td>\n      <td>1</td>\n      <td>2006-02-15 21:30:53</td>\n    </tr>\n  </tbody>\n</table>\n</div>"
     },
     "metadata": {},
     "execution_count": 12
    }
   ],
   "source": [
    "rental_tables.head(2)"
   ]
  },
  {
   "source": [
    "## Query No. 1"
   ],
   "cell_type": "markdown",
   "metadata": {}
  },
  {
   "cell_type": "code",
   "execution_count": 13,
   "metadata": {},
   "outputs": [
    {
     "output_type": "execute_result",
     "data": {
      "text/plain": [
       "              title    name  length\n",
       "0   DOWNHILL ENOUGH  Comedy      47\n",
       "1  PARADISE SABRINA  Comedy      48\n",
       "2    HEAVEN FREEDOM  Comedy      48\n",
       "3  HURRICANE AFFAIR  Comedy      49\n",
       "4        LION UNCUT  Comedy      50\n",
       "5         ZORRO ARK  Comedy      50\n",
       "6       CLOSER BANG  Comedy      58\n",
       "7   AIRPLANE SIERRA  Comedy      62\n",
       "8   LONELY ELEPHANT  Comedy      67\n",
       "9      DOOM DANCING  Comedy      68"
      ],
      "text/html": "<div>\n<style scoped>\n    .dataframe tbody tr th:only-of-type {\n        vertical-align: middle;\n    }\n\n    .dataframe tbody tr th {\n        vertical-align: top;\n    }\n\n    .dataframe thead th {\n        text-align: right;\n    }\n</style>\n<table border=\"1\" class=\"dataframe\">\n  <thead>\n    <tr style=\"text-align: right;\">\n      <th></th>\n      <th>title</th>\n      <th>name</th>\n      <th>length</th>\n    </tr>\n  </thead>\n  <tbody>\n    <tr>\n      <th>0</th>\n      <td>DOWNHILL ENOUGH</td>\n      <td>Comedy</td>\n      <td>47</td>\n    </tr>\n    <tr>\n      <th>1</th>\n      <td>PARADISE SABRINA</td>\n      <td>Comedy</td>\n      <td>48</td>\n    </tr>\n    <tr>\n      <th>2</th>\n      <td>HEAVEN FREEDOM</td>\n      <td>Comedy</td>\n      <td>48</td>\n    </tr>\n    <tr>\n      <th>3</th>\n      <td>HURRICANE AFFAIR</td>\n      <td>Comedy</td>\n      <td>49</td>\n    </tr>\n    <tr>\n      <th>4</th>\n      <td>LION UNCUT</td>\n      <td>Comedy</td>\n      <td>50</td>\n    </tr>\n    <tr>\n      <th>5</th>\n      <td>ZORRO ARK</td>\n      <td>Comedy</td>\n      <td>50</td>\n    </tr>\n    <tr>\n      <th>6</th>\n      <td>CLOSER BANG</td>\n      <td>Comedy</td>\n      <td>58</td>\n    </tr>\n    <tr>\n      <th>7</th>\n      <td>AIRPLANE SIERRA</td>\n      <td>Comedy</td>\n      <td>62</td>\n    </tr>\n    <tr>\n      <th>8</th>\n      <td>LONELY ELEPHANT</td>\n      <td>Comedy</td>\n      <td>67</td>\n    </tr>\n    <tr>\n      <th>9</th>\n      <td>DOOM DANCING</td>\n      <td>Comedy</td>\n      <td>68</td>\n    </tr>\n  </tbody>\n</table>\n</div>"
     },
     "metadata": {},
     "execution_count": 13
    }
   ],
   "source": [
    "no_1 = pd.read_sql_query('''\n",
    "SELECT film.title, category.name, film.length\n",
    "FROM film\n",
    "INNER JOIN film_category ON film.film_id = film_category.film_id\n",
    "INNER JOIN category ON film_category.category_id = category.category_id\n",
    "WHERE film_category.category_id = '5'\n",
    "ORDER BY length\n",
    "LIMIT 10\n",
    "''', connection)\n",
    "no_1"
   ]
  },
  {
   "source": [
    "### Coretan No 1"
   ],
   "cell_type": "markdown",
   "metadata": {}
  },
  {
   "cell_type": "code",
   "execution_count": 14,
   "metadata": {},
   "outputs": [
    {
     "output_type": "execute_result",
     "data": {
      "text/plain": [
       "   category_id    name         last_update\n",
       "0            5  Comedy 2006-02-15 04:46:27"
      ],
      "text/html": "<div>\n<style scoped>\n    .dataframe tbody tr th:only-of-type {\n        vertical-align: middle;\n    }\n\n    .dataframe tbody tr th {\n        vertical-align: top;\n    }\n\n    .dataframe thead th {\n        text-align: right;\n    }\n</style>\n<table border=\"1\" class=\"dataframe\">\n  <thead>\n    <tr style=\"text-align: right;\">\n      <th></th>\n      <th>category_id</th>\n      <th>name</th>\n      <th>last_update</th>\n    </tr>\n  </thead>\n  <tbody>\n    <tr>\n      <th>0</th>\n      <td>5</td>\n      <td>Comedy</td>\n      <td>2006-02-15 04:46:27</td>\n    </tr>\n  </tbody>\n</table>\n</div>"
     },
     "metadata": {},
     "execution_count": 14
    }
   ],
   "source": [
    "coretan1 = pd.read_sql_query('''\n",
    "SELECT * FROM category\n",
    "WHERE name = 'Comedy'\n",
    "''', connection)\n",
    "coretan1"
   ]
  },
  {
   "source": [
    "## Query No. 2"
   ],
   "cell_type": "markdown",
   "metadata": {}
  },
  {
   "cell_type": "code",
   "execution_count": 15,
   "metadata": {},
   "outputs": [
    {
     "output_type": "execute_result",
     "data": {
      "text/plain": [
       "       kategori  jumlahMovie  rataHargaSewa\n",
       "0        Sports           74       3.125135\n",
       "1       Foreign           73       3.099589\n",
       "2        Family           69       2.758116\n",
       "3   Documentary           68       2.666471\n",
       "4     Animation           66       2.808182\n",
       "5        Action           64       2.646250\n",
       "6           New           63       3.116984\n",
       "7         Drama           62       3.022258\n",
       "8         Games           61       3.252295\n",
       "9        Sci-Fi           61       3.219508\n",
       "10     Children           60       2.890000\n",
       "11       Comedy           58       3.162414\n",
       "12     Classics           57       2.744386\n",
       "13       Travel           57       3.235614\n",
       "14       Horror           56       3.025714\n",
       "15        Music           51       2.950784"
      ],
      "text/html": "<div>\n<style scoped>\n    .dataframe tbody tr th:only-of-type {\n        vertical-align: middle;\n    }\n\n    .dataframe tbody tr th {\n        vertical-align: top;\n    }\n\n    .dataframe thead th {\n        text-align: right;\n    }\n</style>\n<table border=\"1\" class=\"dataframe\">\n  <thead>\n    <tr style=\"text-align: right;\">\n      <th></th>\n      <th>kategori</th>\n      <th>jumlahMovie</th>\n      <th>rataHargaSewa</th>\n    </tr>\n  </thead>\n  <tbody>\n    <tr>\n      <th>0</th>\n      <td>Sports</td>\n      <td>74</td>\n      <td>3.125135</td>\n    </tr>\n    <tr>\n      <th>1</th>\n      <td>Foreign</td>\n      <td>73</td>\n      <td>3.099589</td>\n    </tr>\n    <tr>\n      <th>2</th>\n      <td>Family</td>\n      <td>69</td>\n      <td>2.758116</td>\n    </tr>\n    <tr>\n      <th>3</th>\n      <td>Documentary</td>\n      <td>68</td>\n      <td>2.666471</td>\n    </tr>\n    <tr>\n      <th>4</th>\n      <td>Animation</td>\n      <td>66</td>\n      <td>2.808182</td>\n    </tr>\n    <tr>\n      <th>5</th>\n      <td>Action</td>\n      <td>64</td>\n      <td>2.646250</td>\n    </tr>\n    <tr>\n      <th>6</th>\n      <td>New</td>\n      <td>63</td>\n      <td>3.116984</td>\n    </tr>\n    <tr>\n      <th>7</th>\n      <td>Drama</td>\n      <td>62</td>\n      <td>3.022258</td>\n    </tr>\n    <tr>\n      <th>8</th>\n      <td>Games</td>\n      <td>61</td>\n      <td>3.252295</td>\n    </tr>\n    <tr>\n      <th>9</th>\n      <td>Sci-Fi</td>\n      <td>61</td>\n      <td>3.219508</td>\n    </tr>\n    <tr>\n      <th>10</th>\n      <td>Children</td>\n      <td>60</td>\n      <td>2.890000</td>\n    </tr>\n    <tr>\n      <th>11</th>\n      <td>Comedy</td>\n      <td>58</td>\n      <td>3.162414</td>\n    </tr>\n    <tr>\n      <th>12</th>\n      <td>Classics</td>\n      <td>57</td>\n      <td>2.744386</td>\n    </tr>\n    <tr>\n      <th>13</th>\n      <td>Travel</td>\n      <td>57</td>\n      <td>3.235614</td>\n    </tr>\n    <tr>\n      <th>14</th>\n      <td>Horror</td>\n      <td>56</td>\n      <td>3.025714</td>\n    </tr>\n    <tr>\n      <th>15</th>\n      <td>Music</td>\n      <td>51</td>\n      <td>2.950784</td>\n    </tr>\n  </tbody>\n</table>\n</div>"
     },
     "metadata": {},
     "execution_count": 15
    }
   ],
   "source": [
    "no_2 = pd.read_sql_query('''\n",
    "SELECT category.name as kategori, COUNT(film.film_id) as jumlahMovie, AVG(film.rental_rate) as rataHargaSewa\n",
    "FROM category\n",
    "INNER JOIN film_category ON category.category_id = film_category.category_id\n",
    "INNER JOIN film ON film_category.film_id = film.film_id\n",
    "GROUP BY kategori\n",
    "ORDER BY jumlahMovie DESC\n",
    "''', connection)\n",
    "no_2"
   ]
  },
  {
   "source": [
    "## Query No. 3"
   ],
   "cell_type": "markdown",
   "metadata": {}
  },
  {
   "cell_type": "code",
   "execution_count": 16,
   "metadata": {},
   "outputs": [
    {
     "output_type": "execute_result",
     "data": {
      "text/plain": [
       "   actor_id first_name  last_name  jumlah_Movie\n",
       "0       107       GINA  DEGENERES            42\n",
       "1       102     WALTER       TORN            41\n",
       "2       198       MARY     KEITEL            40\n",
       "3       181    MATTHEW     CARREY            39\n",
       "4        23     SANDRA     KILMER            37\n",
       "5        81   SCARLETT      DAMON            36\n",
       "6        37        VAL     BOLGER            35\n",
       "7       158     VIVIEN   BASINGER            35\n",
       "8       106    GROUCHO      DUNST            35\n",
       "9        13        UMA       WOOD            35"
      ],
      "text/html": "<div>\n<style scoped>\n    .dataframe tbody tr th:only-of-type {\n        vertical-align: middle;\n    }\n\n    .dataframe tbody tr th {\n        vertical-align: top;\n    }\n\n    .dataframe thead th {\n        text-align: right;\n    }\n</style>\n<table border=\"1\" class=\"dataframe\">\n  <thead>\n    <tr style=\"text-align: right;\">\n      <th></th>\n      <th>actor_id</th>\n      <th>first_name</th>\n      <th>last_name</th>\n      <th>jumlah_Movie</th>\n    </tr>\n  </thead>\n  <tbody>\n    <tr>\n      <th>0</th>\n      <td>107</td>\n      <td>GINA</td>\n      <td>DEGENERES</td>\n      <td>42</td>\n    </tr>\n    <tr>\n      <th>1</th>\n      <td>102</td>\n      <td>WALTER</td>\n      <td>TORN</td>\n      <td>41</td>\n    </tr>\n    <tr>\n      <th>2</th>\n      <td>198</td>\n      <td>MARY</td>\n      <td>KEITEL</td>\n      <td>40</td>\n    </tr>\n    <tr>\n      <th>3</th>\n      <td>181</td>\n      <td>MATTHEW</td>\n      <td>CARREY</td>\n      <td>39</td>\n    </tr>\n    <tr>\n      <th>4</th>\n      <td>23</td>\n      <td>SANDRA</td>\n      <td>KILMER</td>\n      <td>37</td>\n    </tr>\n    <tr>\n      <th>5</th>\n      <td>81</td>\n      <td>SCARLETT</td>\n      <td>DAMON</td>\n      <td>36</td>\n    </tr>\n    <tr>\n      <th>6</th>\n      <td>37</td>\n      <td>VAL</td>\n      <td>BOLGER</td>\n      <td>35</td>\n    </tr>\n    <tr>\n      <th>7</th>\n      <td>158</td>\n      <td>VIVIEN</td>\n      <td>BASINGER</td>\n      <td>35</td>\n    </tr>\n    <tr>\n      <th>8</th>\n      <td>106</td>\n      <td>GROUCHO</td>\n      <td>DUNST</td>\n      <td>35</td>\n    </tr>\n    <tr>\n      <th>9</th>\n      <td>13</td>\n      <td>UMA</td>\n      <td>WOOD</td>\n      <td>35</td>\n    </tr>\n  </tbody>\n</table>\n</div>"
     },
     "metadata": {},
     "execution_count": 16
    }
   ],
   "source": [
    "no_3 = pd.read_sql_query('''\n",
    "SELECT actor.actor_id, actor.first_name, actor.last_name, COUNT(film.film_id) as jumlah_Movie\n",
    "FROM actor\n",
    "INNER JOIN film_actor ON actor.actor_id = film_actor.actor_id\n",
    "INNER JOIN film ON film_actor.film_id = film.film_id\n",
    "GROUP BY actor_id\n",
    "ORDER BY jumlah_Movie DESC\n",
    "LIMIT 10\n",
    "''', connection)\n",
    "no_3"
   ]
  },
  {
   "source": [
    "## Query No. 4"
   ],
   "cell_type": "markdown",
   "metadata": {}
  },
  {
   "cell_type": "code",
   "execution_count": 17,
   "metadata": {},
   "outputs": [
    {
     "output_type": "execute_result",
     "data": {
      "text/plain": [
       "       category  jumlah_Movie\n",
       "0   Documentary             3\n",
       "1       Foreign             2\n",
       "2         Music             4\n",
       "3           New             1\n",
       "4        Sci-Fi             7\n",
       "5        Action             3\n",
       "6         Drama             2\n",
       "7     Animation             4\n",
       "8        Horror             1\n",
       "9        Family             4\n",
       "10       Comedy             3\n",
       "11     Children             2\n",
       "12     Classics             2\n",
       "13       Sports             2\n",
       "14        Games             1\n",
       "15       Travel             1"
      ],
      "text/html": "<div>\n<style scoped>\n    .dataframe tbody tr th:only-of-type {\n        vertical-align: middle;\n    }\n\n    .dataframe tbody tr th {\n        vertical-align: top;\n    }\n\n    .dataframe thead th {\n        text-align: right;\n    }\n</style>\n<table border=\"1\" class=\"dataframe\">\n  <thead>\n    <tr style=\"text-align: right;\">\n      <th></th>\n      <th>category</th>\n      <th>jumlah_Movie</th>\n    </tr>\n  </thead>\n  <tbody>\n    <tr>\n      <th>0</th>\n      <td>Documentary</td>\n      <td>3</td>\n    </tr>\n    <tr>\n      <th>1</th>\n      <td>Foreign</td>\n      <td>2</td>\n    </tr>\n    <tr>\n      <th>2</th>\n      <td>Music</td>\n      <td>4</td>\n    </tr>\n    <tr>\n      <th>3</th>\n      <td>New</td>\n      <td>1</td>\n    </tr>\n    <tr>\n      <th>4</th>\n      <td>Sci-Fi</td>\n      <td>7</td>\n    </tr>\n    <tr>\n      <th>5</th>\n      <td>Action</td>\n      <td>3</td>\n    </tr>\n    <tr>\n      <th>6</th>\n      <td>Drama</td>\n      <td>2</td>\n    </tr>\n    <tr>\n      <th>7</th>\n      <td>Animation</td>\n      <td>4</td>\n    </tr>\n    <tr>\n      <th>8</th>\n      <td>Horror</td>\n      <td>1</td>\n    </tr>\n    <tr>\n      <th>9</th>\n      <td>Family</td>\n      <td>4</td>\n    </tr>\n    <tr>\n      <th>10</th>\n      <td>Comedy</td>\n      <td>3</td>\n    </tr>\n    <tr>\n      <th>11</th>\n      <td>Children</td>\n      <td>2</td>\n    </tr>\n    <tr>\n      <th>12</th>\n      <td>Classics</td>\n      <td>2</td>\n    </tr>\n    <tr>\n      <th>13</th>\n      <td>Sports</td>\n      <td>2</td>\n    </tr>\n    <tr>\n      <th>14</th>\n      <td>Games</td>\n      <td>1</td>\n    </tr>\n    <tr>\n      <th>15</th>\n      <td>Travel</td>\n      <td>1</td>\n    </tr>\n  </tbody>\n</table>\n</div>"
     },
     "metadata": {},
     "execution_count": 17
    }
   ],
   "source": [
    "no_4 = pd.read_sql_query('''\n",
    "SELECT category.name as category, COUNT(film_category.film_id) as jumlah_Movie\n",
    "FROM category\n",
    "INNER JOIN film_category ON film_category.category_id = category.category_id\n",
    "INNER JOIN film_actor ON film_category.film_id = film_actor.film_id\n",
    "WHERE film_actor.actor_id = '107'\n",
    "GROUP BY category\n",
    "''', connection)\n",
    "no_4"
   ]
  },
  {
   "source": [
    "## Query No. 5"
   ],
   "cell_type": "markdown",
   "metadata": {}
  },
  {
   "cell_type": "code",
   "execution_count": 18,
   "metadata": {},
   "outputs": [
    {
     "output_type": "execute_result",
     "data": {
      "text/plain": [
       "                 title    name\n",
       "0  CHARIOTS CONSPIRACY  Sci-Fi\n",
       "1  COLDBLOODED DARLING  Sci-Fi\n",
       "2       FRISCO FORREST  Sci-Fi\n",
       "3    GOODFELLAS SALUTE  Sci-Fi\n",
       "4      LICENSE WEEKEND  Sci-Fi\n",
       "5         OPEN AFRICAN  Sci-Fi\n",
       "6  SPIRITED CASUALTIES  Sci-Fi"
      ],
      "text/html": "<div>\n<style scoped>\n    .dataframe tbody tr th:only-of-type {\n        vertical-align: middle;\n    }\n\n    .dataframe tbody tr th {\n        vertical-align: top;\n    }\n\n    .dataframe thead th {\n        text-align: right;\n    }\n</style>\n<table border=\"1\" class=\"dataframe\">\n  <thead>\n    <tr style=\"text-align: right;\">\n      <th></th>\n      <th>title</th>\n      <th>name</th>\n    </tr>\n  </thead>\n  <tbody>\n    <tr>\n      <th>0</th>\n      <td>CHARIOTS CONSPIRACY</td>\n      <td>Sci-Fi</td>\n    </tr>\n    <tr>\n      <th>1</th>\n      <td>COLDBLOODED DARLING</td>\n      <td>Sci-Fi</td>\n    </tr>\n    <tr>\n      <th>2</th>\n      <td>FRISCO FORREST</td>\n      <td>Sci-Fi</td>\n    </tr>\n    <tr>\n      <th>3</th>\n      <td>GOODFELLAS SALUTE</td>\n      <td>Sci-Fi</td>\n    </tr>\n    <tr>\n      <th>4</th>\n      <td>LICENSE WEEKEND</td>\n      <td>Sci-Fi</td>\n    </tr>\n    <tr>\n      <th>5</th>\n      <td>OPEN AFRICAN</td>\n      <td>Sci-Fi</td>\n    </tr>\n    <tr>\n      <th>6</th>\n      <td>SPIRITED CASUALTIES</td>\n      <td>Sci-Fi</td>\n    </tr>\n  </tbody>\n</table>\n</div>"
     },
     "metadata": {},
     "execution_count": 18
    }
   ],
   "source": [
    "no_5 = pd.read_sql_query('''\n",
    "SELECT film.title, category.name\n",
    "FROM film\n",
    "INNER JOIN film_category ON film.film_id = film_category.film_id\n",
    "INNER JOIN category ON film_category.category_id = category.category_id\n",
    "INNER JOIN film_actor ON film.film_id = film_actor.film_id\n",
    "WHERE film_actor.actor_id = '107' AND category.category_id = '14'\n",
    "''', connection)\n",
    "no_5"
   ]
  },
  {
   "source": [
    "### Coretan No. 5"
   ],
   "cell_type": "markdown",
   "metadata": {}
  },
  {
   "cell_type": "code",
   "execution_count": 19,
   "metadata": {},
   "outputs": [
    {
     "output_type": "execute_result",
     "data": {
      "text/plain": [
       "   category_id    name         last_update\n",
       "0           14  Sci-Fi 2006-02-15 04:46:27"
      ],
      "text/html": "<div>\n<style scoped>\n    .dataframe tbody tr th:only-of-type {\n        vertical-align: middle;\n    }\n\n    .dataframe tbody tr th {\n        vertical-align: top;\n    }\n\n    .dataframe thead th {\n        text-align: right;\n    }\n</style>\n<table border=\"1\" class=\"dataframe\">\n  <thead>\n    <tr style=\"text-align: right;\">\n      <th></th>\n      <th>category_id</th>\n      <th>name</th>\n      <th>last_update</th>\n    </tr>\n  </thead>\n  <tbody>\n    <tr>\n      <th>0</th>\n      <td>14</td>\n      <td>Sci-Fi</td>\n      <td>2006-02-15 04:46:27</td>\n    </tr>\n  </tbody>\n</table>\n</div>"
     },
     "metadata": {},
     "execution_count": 19
    }
   ],
   "source": [
    "coretan5 = pd.read_sql_query('''\n",
    "SELECT * from category\n",
    "where name = 'Sci-Fi'\n",
    "''', connection)\n",
    "coretan5"
   ]
  },
  {
   "cell_type": "code",
   "execution_count": null,
   "metadata": {},
   "outputs": [],
   "source": []
  }
 ]
}